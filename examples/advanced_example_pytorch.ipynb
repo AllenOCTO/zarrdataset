{
 "cells": [
  {
   "cell_type": "markdown",
   "metadata": {},
   "source": [
    "# Integration of ZarrDataset with PyTorch's DataLoader (Advanced)"
   ]
  },
  {
   "cell_type": "code",
   "execution_count": 1,
   "metadata": {},
   "outputs": [],
   "source": [
    "import zarrdataset as zds\n",
    "\n",
    "import torch\n",
    "from torch.utils.data import DataLoader, ChainDataset\n",
    "import numpy as np\n",
    "import matplotlib.pyplot as plt"
   ]
  },
  {
   "cell_type": "code",
   "execution_count": 2,
   "metadata": {},
   "outputs": [],
   "source": [
    "# These are images from the Image Data Resource (IDR) \n",
    "# https://idr.openmicroscopy.org/ that are publicly available and were \n",
    "# converted to the OME-NGFF (Zarr) format by the OME group. More examples\n",
    "# can be found at Public OME-Zarr data (Nov. 2020)\n",
    "# https://www.openmicroscopy.org/2020/11/04/zarr-data.html\n",
    "\n",
    "filenames = [\n",
    "    \"https://uk1s3.embassy.ebi.ac.uk/idr/zarr/v0.1/6001240.zarr\",\n",
    "    \"https://uk1s3.embassy.ebi.ac.uk/idr/zarr/v0.1/6001241.zarr\",\n",
    "    \"https://uk1s3.embassy.ebi.ac.uk/idr/zarr/v0.1/6001242.zarr\",\n",
    "    \"https://uk1s3.embassy.ebi.ac.uk/idr/zarr/v0.1/6001243.zarr\",\n",
    "]"
   ]
  },
  {
   "cell_type": "markdown",
   "metadata": {},
   "source": [
    "### Extracting patches of size 128x128x32 `voxels` from a three-dimensional image"
   ]
  },
  {
   "cell_type": "markdown",
   "metadata": {},
   "source": [
    "Sample the image randomly"
   ]
  },
  {
   "cell_type": "code",
   "execution_count": 3,
   "metadata": {},
   "outputs": [],
   "source": [
    "patch_size = dict(Z=1, Y=128, X=128)\n",
    "patch_sampler = zds.GridPatchSampler(patch_size=patch_size)"
   ]
  },
  {
   "cell_type": "markdown",
   "metadata": {},
   "source": [
    "Transform the input data from uint16 to float16 with a torchvision pre-processing pipeline"
   ]
  },
  {
   "cell_type": "code",
   "execution_count": 4,
   "metadata": {},
   "outputs": [],
   "source": [
    "import torchvision\n",
    "\n",
    "img_preprocessing = torchvision.transforms.Compose([\n",
    "    zds.ToDtype(dtype=np.float16)\n",
    "])"
   ]
  },
  {
   "cell_type": "markdown",
   "metadata": {},
   "source": [
    "Pass the pre-processing function to ZarrDataset to beused when generating the samples"
   ]
  },
  {
   "cell_type": "code",
   "execution_count": 5,
   "metadata": {},
   "outputs": [],
   "source": [
    "my_datasets = [zds.ZarrDataset(fn,\n",
    "                               transform=img_preprocessing,\n",
    "                               data_group=\"0\",\n",
    "                               source_axes=\"TCZYX\",\n",
    "                               patch_sampler=patch_sampler,\n",
    "                               shuffle=True,\n",
    "                               return_any_label=False,\n",
    "                               return_positions=True)\n",
    "              for fn in filenames]"
   ]
  },
  {
   "cell_type": "markdown",
   "metadata": {},
   "source": [
    "### Create a ChainDataset from a set of ZarrDatasets that can be put together a single large dataset"
   ]
  },
  {
   "cell_type": "code",
   "execution_count": 6,
   "metadata": {},
   "outputs": [],
   "source": [
    "my_chain_dataset = ChainDataset(my_datasets)"
   ]
  },
  {
   "cell_type": "markdown",
   "metadata": {},
   "source": [
    "Make sure the chained_zarrdataset_worker_init function is passed to the DataLoader, so the workers can initialize the dataset correctly"
   ]
  },
  {
   "cell_type": "code",
   "execution_count": 7,
   "metadata": {},
   "outputs": [],
   "source": [
    "my_dataloader = DataLoader(my_chain_dataset,\n",
    "                           num_workers=0,\n",
    "                           worker_init_fn=zds.chained_zarrdataset_worker_init,\n",
    "                           batch_size=2\n",
    "                           )"
   ]
  },
  {
   "cell_type": "code",
   "execution_count": 8,
   "metadata": {},
   "outputs": [],
   "source": [
    "import os\n",
    "os.environ[\"KMP_DUPLICATE_LIB_OK\"] = \"TRUE\""
   ]
  },
  {
   "cell_type": "code",
   "execution_count": 9,
   "metadata": {},
   "outputs": [
    {
     "name": "stderr",
     "output_type": "stream",
     "text": [
      "c:\\Users\\cervaf\\Documents\\Apps\\miniconda3\\envs\\zds-dev\\lib\\site-packages\\boto3\\compat.py:82: PythonDeprecationWarning: Boto3 will no longer support Python 3.7 starting December 13, 2023. To continue receiving service updates, bug fixes, and security updates please upgrade to Python 3.8 or later. More information can be found here: https://aws.amazon.com/blogs/developer/python-support-policy-updates-for-aws-sdks-and-tools/\n",
      "  warnings.warn(warning, PythonDeprecationWarning)\n"
     ]
    },
    {
     "name": "stdout",
     "output_type": "stream",
     "text": [
      "Sample 1 with size torch.Size([2, 1, 2, 1, 128, 128])\n",
      "Sample 2 with size torch.Size([2, 1, 2, 1, 128, 128])\n",
      "Sample 3 with size torch.Size([2, 1, 2, 1, 128, 128])\n",
      "Sample 4 with size torch.Size([2, 1, 2, 1, 128, 128])\n",
      "Sample 5 with size torch.Size([2, 1, 2, 1, 128, 128])\n"
     ]
    }
   ],
   "source": [
    "samples = []\n",
    "positions = []\n",
    "for i, (pos, sample) in enumerate(my_dataloader):\n",
    "    positions += [p for p in pos]\n",
    "    samples += [s for s in sample]\n",
    "\n",
    "    print(f\"Sample {i+1} with size {sample.shape}\")\n",
    "\n",
    "    if i > 3:\n",
    "        # Take only five samples for illustration purposes\n",
    "        break\n",
    "\n",
    "samples = torch.cat(samples, dim=-1)"
   ]
  },
  {
   "cell_type": "code",
   "execution_count": 10,
   "metadata": {},
   "outputs": [
    {
     "data": {
      "text/plain": [
       "torch.Size([1, 2, 1, 128, 1280])"
      ]
     },
     "execution_count": 10,
     "metadata": {},
     "output_type": "execute_result"
    }
   ],
   "source": [
    "samples.shape"
   ]
  },
  {
   "cell_type": "code",
   "execution_count": 11,
   "metadata": {},
   "outputs": [
    {
     "data": {
      "text/plain": [
       "(-0.5, 1279.5, 127.5, -0.5)"
      ]
     },
     "execution_count": 11,
     "metadata": {},
     "output_type": "execute_result"
    },
    {
     "data": {
      "image/png": "[encoded data removed]",
      "text/plain": [
       "<Figure size 640x480 with 1 Axes>"
      ]
     },
     "metadata": {},
     "output_type": "display_data"
    }
   ],
   "source": [
    "plt.imshow(samples[0, 0, 0, ...], cmap=\"gray\")\n",
    "plt.axis('off')"
   ]
  }
 ],
 "metadata": {
  "kernelspec": {
   "display_name": "Python 3 (ipykernel)",
   "language": "python",
   "name": "python3"
  },
  "language_info": {
   "codemirror_mode": {
    "name": "ipython",
    "version": 3
   },
   "file_extension": ".py",
   "mimetype": "text/x-python",
   "name": "python",
   "nbconvert_exporter": "python",
   "pygments_lexer": "ipython3",
   "version": "3.7.0"
  }
 },
 "nbformat": 4,
 "nbformat_minor": 4
}
